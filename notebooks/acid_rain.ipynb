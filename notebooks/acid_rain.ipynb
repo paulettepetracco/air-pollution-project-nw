{
 "cells": [
  {
   "cell_type": "code",
   "execution_count": null,
   "metadata": {},
   "outputs": [],
   "source": [
    "# Dependencies and Setup\n",
    "import matplotlib.pyplot as plt\n",
    "import pandas as pd, datetime\n",
    "import numpy as np\n",
    "import requests\n",
    "import time\n",
    "from scipy.stats import linregress\n",
    "from ydata_profiling import ProfileReport\n",
    "from pathlib import Path\n",
    "\n",
    "\n",
    "# Import the OpenWeatherMap API key\n",
    "from api_keys import airpollution_api_key \n",
    "\n",
    "\n",
    "# Import citipy to determine the cities based on latitude and longitude\n",
    "from citipy import citipy\n",
    "\n",
    "airpollution_api_key = airpollution_api_key or \"YOUR_API_KEY\"\n"
   ]
  },
  {
   "cell_type": "code",
   "execution_count": null,
   "metadata": {},
   "outputs": [],
   "source": [
    "# Load the CSV file into a Pandas DataFrame\n",
    "ntn_metadata = pd.read_csv(\"../Resources/cleaned-ntn-metadata.csv\")\n",
    "ntn_all = pd.read_csv(\"../Resources/cleaned-NTN-ALL-a-s-ueq.csv\")\n",
    "\n",
    "# Combine the data into a single dataset on the 'siteID' column\n",
    "ntn_data = pd.merge(ntn_metadata, ntn_all, how=\"left\", on=\"siteID\")\n",
    "ntn_data.head()"
   ]
  },
  {
   "cell_type": "code",
   "execution_count": null,
   "metadata": {},
   "outputs": [],
   "source": [
    "# Review data types\n",
    "ntn_data.info()"
   ]
  },
  {
   "cell_type": "code",
   "execution_count": null,
   "metadata": {},
   "outputs": [],
   "source": [
    "# Describe the data\n",
    "ntn_data.describe()"
   ]
  },
  {
   "cell_type": "code",
   "execution_count": null,
   "metadata": {},
   "outputs": [],
   "source": [
    "# Check for missing values\n",
    "ntn_data.isnull().sum()"
   ]
  },
  {
   "cell_type": "code",
   "execution_count": null,
   "metadata": {},
   "outputs": [],
   "source": [
    "# Rename columns latitude and longitude to capitalize the first letter\n",
    "ntn_data.rename(columns={\"latitude\": \"Latitude\", \"longitude\": \"Longitude\"}, inplace=True)\n",
    "ntn_data.head()"
   ]
  },
  {
   "cell_type": "code",
   "execution_count": null,
   "metadata": {},
   "outputs": [],
   "source": [
    "# Check for duplicates in the data\n",
    "duplicates = ntn_data.duplicated(subset=[\"Latitude\", \"Longitude\"])\n",
    "duplicates.sum()"
   ]
  },
  {
   "cell_type": "code",
   "execution_count": null,
   "metadata": {},
   "outputs": [],
   "source": [
    "# Run the Profiling Report using ydata_profiling\n",
    "profile = ProfileReport(ntn_data,title = \"Acid Rain Profile Report\")\n",
    "profile.to_notebook_iframe()"
   ]
  },
  {
   "cell_type": "code",
   "execution_count": null,
   "metadata": {},
   "outputs": [],
   "source": [
    "# create the html file for the acid_rain profiling report\n",
    "profile.to_file(Path(\"../acid_rain_profile_report.html\"))"
   ]
  },
  {
   "cell_type": "code",
   "execution_count": null,
   "metadata": {},
   "outputs": [],
   "source": [
    "# create the json file for the acid_rain profiling report\n",
    "profile.to_file(Path(\"../acid_rain_profile_report.json\"))"
   ]
  },
  {
   "cell_type": "code",
   "execution_count": null,
   "metadata": {},
   "outputs": [],
   "source": [
    "# view the latitude and longitude datatypes to ensure they are numeric\n",
    "ntn_data[[\"Latitude\", \"Longitude\"]].dtypes"
   ]
  },
  {
   "cell_type": "code",
   "execution_count": null,
   "metadata": {},
   "outputs": [],
   "source": [
    "\n",
    "\n",
    "# Create an empty list to store the weather data from the OpenWeatherMap API\n",
    "acid_rain_air_pollution = []\n",
    "\n",
    "for i in ntn_data.index:\n",
    "    # Get the latitude and longitude\n",
    "    lat = ntn_data.loc[i, \"Latitude\"]\n",
    "    lon = ntn_data.loc[i, \"Longitude\"]\n",
    "    \n",
    "    # Use the OpenWeatherMap API to get the weather data\n",
    "    url = f\"http://api.openweathermap.org/data/2.5/air_pollution?lat={lat}&lon={lon}&appid={airpollution_api_key}\"\n",
    "    try:\n",
    "        acid_rain_ap = requests.get(url).json()\n",
    "        \n",
    "        # Check if response contains expected fields\n",
    "        if \"coord\" in acid_rain_ap and \"list\" in acid_rain_ap:\n",
    "            coordinates = acid_rain_ap[\"coord\"]\n",
    "            components = acid_rain_ap['list'][0][\"components\"]\n",
    "            acid_rain_air_pollution.append([\n",
    "                coordinates['lat'], coordinates['lon'],\n",
    "                components['co'], components['no'],\n",
    "                components['no2'], components['o3'],\n",
    "                components['so2'], components['pm2_5'],\n",
    "                components['pm10'], components['nh3']\n",
    "            ])\n",
    "        else:\n",
    "            print(f\"No data for index {i}\")\n",
    "    except Exception as e:\n",
    "        print(f\"Error fetching data for index {i}: {e}\")\n",
    "\n",
    "acid_rain_air_pollution\n"
   ]
  },
  {
   "cell_type": "code",
   "execution_count": null,
   "metadata": {},
   "outputs": [],
   "source": [
    "# create a dataframe from the list of weather data\n",
    "columns = [\"Latitude\", \"Longitude\", \"CO\", \"NO\", \"NO2\", \"O3\", \"SO2\", \"PM2.5\", \"PM10\", \"NH3\"]\n",
    "rain_air_pollution_df = pd.DataFrame(acid_rain_air_pollution, columns=columns)   \n",
    "rain_air_pollution_df.head()"
   ]
  },
  {
   "cell_type": "code",
   "execution_count": null,
   "metadata": {},
   "outputs": [],
   "source": [
    "# review the data types\n",
    "rain_air_pollution_df.info()"
   ]
  },
  {
   "cell_type": "code",
   "execution_count": null,
   "metadata": {},
   "outputs": [],
   "source": [
    "# merge the acid rain data with the air pollution data\n",
    "acid_rain_ap_df = pd.concat([ntn_data, rain_air_pollution_df], axis=1)\n",
    "acid_rain_ap_df.head()"
   ]
  },
  {
   "cell_type": "code",
   "execution_count": null,
   "metadata": {},
   "outputs": [],
   "source": [
    "# save acid_rain_ap_df to a csv file to use for the sql database\n",
    "acid_rain_ap_df.to_csv(\"../acid_rain_cleaned_data/acid_rain_air_pollution.csv\", index=False)"
   ]
  }
 ],
 "metadata": {
  "kernelspec": {
   "display_name": "dev",
   "language": "python",
   "name": "python3"
  },
  "language_info": {
   "codemirror_mode": {
    "name": "ipython",
    "version": 3
   },
   "file_extension": ".py",
   "mimetype": "text/x-python",
   "name": "python",
   "nbconvert_exporter": "python",
   "pygments_lexer": "ipython3",
   "version": "3.10.13"
  }
 },
 "nbformat": 4,
 "nbformat_minor": 2
}
