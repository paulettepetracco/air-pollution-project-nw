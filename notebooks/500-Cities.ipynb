{
 "cells": [
  {
   "cell_type": "code",
   "execution_count": null,
   "metadata": {},
   "outputs": [],
   "source": [
    "# Dependencies and Setup\n",
    "import matplotlib.pyplot as plt\n",
    "import pandas as pd, datetime\n",
    "import numpy as np\n",
    "import requests\n",
    "import time\n",
    "from scipy.stats import linregress\n",
    "from ydata_profiling import ProfileReport\n",
    "from pathlib import Path\n",
    "\n",
    "\n",
    "# Import the OpenWeatherMap API key\n",
    "from api_keys import airpollution_api_key \n",
    "\n",
    "\n",
    "# Import citipy to determine the cities based on latitude and longitude\n",
    "from citipy import citipy\n",
    "\n",
    "# airpollution_api_key = airpollution_api_key or \"YOUR_API_KEY\"\n"
   ]
  },
  {
   "cell_type": "code",
   "execution_count": null,
   "metadata": {},
   "outputs": [],
   "source": [
    "# Load the CSV file into a Pandas DataFrame\n",
    "city_health = pd.read_csv(\"../Resources/CDC_500_City_Health.csv\")\n",
    "\n",
    "# Display the data table for preview\n",
    "city_health"
   ]
  },
  {
   "cell_type": "code",
   "execution_count": null,
   "metadata": {},
   "outputs": [],
   "source": [
    "# review data types\n",
    "city_health.info()"
   ]
  },
  {
   "cell_type": "code",
   "execution_count": null,
   "metadata": {},
   "outputs": [],
   "source": [
    "# describe data\n",
    "city_health.describe()"
   ]
  },
  {
   "cell_type": "code",
   "execution_count": null,
   "metadata": {},
   "outputs": [],
   "source": [
    "# Run the Profiling Report using ydata_profiling\n",
    "profile = ProfileReport(city_health,title = \"City Health Profile Report\")\n",
    "profile.to_notebook_iframe()"
   ]
  },
  {
   "cell_type": "code",
   "execution_count": null,
   "metadata": {},
   "outputs": [],
   "source": [
    "# drop columns with null values\n",
    "clean_city_health = city_health.drop(['Data_Value_Footnote_Symbol','Data_Value_Footnote','TractFIPS'],axis=1)"
   ]
  },
  {
   "cell_type": "code",
   "execution_count": null,
   "metadata": {},
   "outputs": [],
   "source": [
    "# review data types after dropping null values\n",
    "clean_city_health.info()"
   ]
  },
  {
   "cell_type": "code",
   "execution_count": null,
   "metadata": {},
   "outputs": [],
   "source": [
    "# describe data after dropping null values\n",
    "clean_city_health.describe()"
   ]
  },
  {
   "cell_type": "code",
   "execution_count": null,
   "metadata": {},
   "outputs": [],
   "source": [
    "# Run the Profiling Report using ydata_profiling after dropping null values\n",
    "profile = ProfileReport(clean_city_health,title = \"City Health Profile Report\")\n",
    "profile.to_notebook_iframe()"
   ]
  },
  {
   "cell_type": "code",
   "execution_count": null,
   "metadata": {},
   "outputs": [],
   "source": [
    "# create the html file for the City_Health profiling report\n",
    "profile.to_file(Path(\"../City_Health_Profile_Report.html\"))\n",
    "\n",
    "\n"
   ]
  },
  {
   "cell_type": "code",
   "execution_count": null,
   "metadata": {},
   "outputs": [],
   "source": [
    "# create a json file for the City_Health profiling report\n",
    "profile.to_file(Path(\"../City_Health_Profile_Report.json\"))"
   ]
  },
  {
   "cell_type": "code",
   "execution_count": null,
   "metadata": {},
   "outputs": [],
   "source": [
    "# Review the number of cities per state per unique MeasureID\n",
    "diseases_per_state = clean_city_health.groupby('StateDesc')['MeasureId'].value_counts()\n",
    "diseases_per_state\n"
   ]
  },
  {
   "cell_type": "code",
   "execution_count": null,
   "metadata": {},
   "outputs": [],
   "source": [
    "# total count of diseases per state\n",
    "diseases_per_state_total = clean_city_health.groupby('StateDesc')['MeasureId'].count().sort_values(ascending=False)\n",
    "diseases_per_state_total"
   ]
  },
  {
   "cell_type": "code",
   "execution_count": null,
   "metadata": {},
   "outputs": [],
   "source": [
    "# number of cities per state with diseases\n",
    "cities_per_state = clean_city_health.groupby('StateDesc')['CityName'].nunique().sort_values(ascending=False)\n",
    "cities_per_state"
   ]
  },
  {
   "cell_type": "code",
   "execution_count": null,
   "metadata": {},
   "outputs": [],
   "source": [
    "# change data type for Latitude and Longitude\n",
    "clean_city_health[['Latitude', 'Longitude']] = clean_city_health['GeoLocation'].str.extract(r'\\(([^,]+),([^)]+)\\)', expand=True)\n",
    "clean_city_health['Latitude'] = clean_city_health['Latitude'].astype(float)\n",
    "clean_city_health['Longitude'] = clean_city_health['Longitude'].astype(float)\n",
    "clean_city_health"
   ]
  },
  {
   "cell_type": "code",
   "execution_count": null,
   "metadata": {},
   "outputs": [],
   "source": [
    "# sort values by CityName\n",
    "clean_city_health = clean_city_health.sort_values(by='CityName')\n",
    "clean_city_health"
   ]
  },
  {
   "cell_type": "code",
   "execution_count": null,
   "metadata": {},
   "outputs": [],
   "source": [
    "# Review the data types\n",
    "clean_city_health.info()"
   ]
  },
  {
   "cell_type": "code",
   "execution_count": null,
   "metadata": {},
   "outputs": [],
   "source": [
    "# create a dataframe for cancer data eliminating the index\n",
    "cancer_df = clean_city_health.loc[clean_city_health['MeasureId'] == 'CANCER']\n",
    "cancer_df.reset_index(drop=True, inplace=True)\n",
    "cancer_df\n"
   ]
  },
  {
   "cell_type": "code",
   "execution_count": null,
   "metadata": {},
   "outputs": [],
   "source": [
    "# Create a dataframe for copd data eliminating the index\n",
    "copd_df = clean_city_health.loc[clean_city_health['MeasureId'] == 'COPD']\n",
    "copd_df.reset_index(drop=True, inplace=True)\n",
    "copd_df"
   ]
  },
  {
   "cell_type": "code",
   "execution_count": null,
   "metadata": {},
   "outputs": [],
   "source": [
    "# create a dataframe for asthma data eliminating the index\n",
    "casthma_df = clean_city_health.loc[clean_city_health['MeasureId'] == 'CASTHMA']\n",
    "casthma_df.reset_index(drop=True, inplace=True)\n",
    "casthma_df "
   ]
  },
  {
   "cell_type": "code",
   "execution_count": null,
   "metadata": {},
   "outputs": [],
   "source": [
    "# create a dataframe for chd data eliminating the index\n",
    "chd_df = clean_city_health.loc[clean_city_health['MeasureId'] == 'CHD']\n",
    "chd_df.reset_index(drop=True, inplace=True)\n",
    "chd_df\n"
   ]
  },
  {
   "cell_type": "code",
   "execution_count": null,
   "metadata": {},
   "outputs": [],
   "source": [
    "# drop duplicate GeoLocations from the dataframe\n",
    "city_coordinates = clean_city_health['GeoLocation'].drop_duplicates()\n",
    "city_coordinates"
   ]
  },
  {
   "cell_type": "code",
   "execution_count": null,
   "metadata": {},
   "outputs": [],
   "source": [
    "# Pull the air pollution data for each city using the OpenWeatherMap API\n",
    "# Create a list to hold the data\n",
    "all_cities_air_pollution = []\n",
    "for i in city_coordinates:\n",
    "    clean_lat_lng = i.replace('(','').replace(')','').split(',')\n",
    "    lon = clean_lat_lng[1].strip()\n",
    "    # get data api for each lat and lng\n",
    "    url = f'http://api.openweathermap.org/data/2.5/air_pollution?lat={clean_lat_lng[0]}&lon={lon}&appid={airpollution_api_key}'\n",
    "    \n",
    "    cityap_data = requests.get(url).json()\n",
    "    coordinates = cityap_data['coord']\n",
    "    components = cityap_data['list'][0]['components']\n",
    "    all_cities_air_pollution.append([coordinates['lat'], coordinates['lon'], components['co'], components['no'], components['no2'], components['o3'], components['so2'], components['pm2_5'], components['pm10'], components['nh3']])\n",
    "\n",
    "\n",
    "all_cities_air_pollution"
   ]
  },
  {
   "cell_type": "code",
   "execution_count": null,
   "metadata": {},
   "outputs": [],
   "source": [
    "# Create a DataFrame for the air pollution data\n",
    "all_cities_air_pollution_df = pd.DataFrame(all_cities_air_pollution, columns=['Latitude', 'Longitude', 'CO', 'NO', 'NO2', 'O3', 'SO2', 'PM2.5', 'PM10', 'NH3'])\n",
    "all_cities_air_pollution_df"
   ]
  },
  {
   "cell_type": "code",
   "execution_count": null,
   "metadata": {},
   "outputs": [],
   "source": [
    "# merge the cancer data with the air pollution data\n",
    "cancer_air_pollution_df  = pd.concat([cancer_df, all_cities_air_pollution_df], axis=1)\n",
    "cancer_air_pollution_df "
   ]
  },
  {
   "cell_type": "code",
   "execution_count": null,
   "metadata": {},
   "outputs": [],
   "source": [
    "# save the cancer_air_pollution_df to a csv file and use for sql database\n",
    "cancer_air_pollution_df.to_csv('../air_pollution_cleaned_data/cancer_air_pollution.csv', index=False)"
   ]
  },
  {
   "cell_type": "code",
   "execution_count": null,
   "metadata": {},
   "outputs": [],
   "source": [
    "# merge the copd data with the air pollution data\n",
    "copd_air_pollution_df  = pd.concat([copd_df, all_cities_air_pollution_df], axis=1)\n",
    "copd_air_pollution_df "
   ]
  },
  {
   "cell_type": "code",
   "execution_count": null,
   "metadata": {},
   "outputs": [],
   "source": [
    "# save the copd_air_pollution_df to a csv file and use for sql database\n",
    "copd_air_pollution_df.to_csv('../air_pollution_cleaned_data/copd_air_pollution.csv', index=False)\n"
   ]
  },
  {
   "cell_type": "code",
   "execution_count": null,
   "metadata": {},
   "outputs": [],
   "source": [
    "# merge the asthma data with the air pollution data\n",
    "casthsma_air_pollution_df  = pd.concat([casthma_df, all_cities_air_pollution_df], axis=1)\n",
    "casthsma_air_pollution_df "
   ]
  },
  {
   "cell_type": "code",
   "execution_count": null,
   "metadata": {},
   "outputs": [],
   "source": [
    "# save the casthsma_air_pollution_df to a csv file and use for sql database\n",
    "casthsma_air_pollution_df.to_csv('../air_pollution_cleaned_data/casthsma_air_pollution.csv', index=False)\n"
   ]
  },
  {
   "cell_type": "code",
   "execution_count": null,
   "metadata": {},
   "outputs": [],
   "source": [
    "# merge the chd data with the air pollution data\n",
    "chd_air_pollution_df  = pd.concat([chd_df, all_cities_air_pollution_df], axis=1)\n",
    "chd_air_pollution_df "
   ]
  },
  {
   "cell_type": "code",
   "execution_count": null,
   "metadata": {},
   "outputs": [],
   "source": [
    "# save the chd_air_pollution_df to a csv file and use for sql database\n",
    "chd_air_pollution_df.to_csv('../air_pollution_cleaned_data/chd_air_pollution.csv', index=False)\n"
   ]
  }
 ],
 "metadata": {
  "kernelspec": {
   "display_name": "dev",
   "language": "python",
   "name": "python3"
  },
  "language_info": {
   "codemirror_mode": {
    "name": "ipython",
    "version": 3
   },
   "file_extension": ".py",
   "mimetype": "text/x-python",
   "name": "python",
   "nbconvert_exporter": "python",
   "pygments_lexer": "ipython3",
   "version": "3.10.13"
  }
 },
 "nbformat": 4,
 "nbformat_minor": 2
}
